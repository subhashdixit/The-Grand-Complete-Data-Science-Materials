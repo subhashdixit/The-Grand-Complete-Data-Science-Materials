{
 "cells": [
  {
   "cell_type": "markdown",
   "metadata": {},
   "source": [
    "# Import Libraries"
   ]
  },
  {
   "cell_type": "code",
   "execution_count": 2,
   "metadata": {},
   "outputs": [],
   "source": [
    "import pandas as pd\n",
    "import time\n",
    "from selenium import webdriver\n",
    "from webdriver_manager.chrome import ChromeDriverManager\n",
    "from selenium.webdriver.chrome.service import Service\n",
    "from selenium.webdriver.common.by import By"
   ]
  },
  {
   "cell_type": "code",
   "execution_count": 2,
   "metadata": {},
   "outputs": [],
   "source": [
    "#driver = webdriver.Chrome(ChromeDriverManager().install())\n",
    "driver = webdriver.Chrome(service=Service(ChromeDriverManager().install()))"
   ]
  },
  {
   "cell_type": "code",
   "execution_count": 22,
   "metadata": {},
   "outputs": [],
   "source": [
    "# To open the witcher character URL\n",
    "page_url = \"https://witcher.fandom.com/wiki/Category:Characters_in_the_stories\"\n",
    "driver.get(page_url)"
   ]
  },
  {
   "cell_type": "code",
   "execution_count": null,
   "metadata": {},
   "outputs": [],
   "source": [
    "# To click Cookies popup\n",
    "#from selenium.webdriver.common.by import By\n",
    "\n",
    "#driver.find_element(By.XPATH, '//div[text()=\"ACCEPT\"]').click()"
   ]
  },
  {
   "cell_type": "markdown",
   "metadata": {},
   "source": [
    "# Find Books"
   ]
  },
  {
   "cell_type": "code",
   "execution_count": 23,
   "metadata": {},
   "outputs": [
    {
     "data": {
      "text/plain": [
       "[<selenium.webdriver.remote.webelement.WebElement (session=\"4740bca4cb4af34b8056b15dfecfffc3\", element=\"5466FD7446429814A801504DA3453157_element_1524\")>,\n",
       " <selenium.webdriver.remote.webelement.WebElement (session=\"4740bca4cb4af34b8056b15dfecfffc3\", element=\"5466FD7446429814A801504DA3453157_element_1525\")>,\n",
       " <selenium.webdriver.remote.webelement.WebElement (session=\"4740bca4cb4af34b8056b15dfecfffc3\", element=\"5466FD7446429814A801504DA3453157_element_1526\")>,\n",
       " <selenium.webdriver.remote.webelement.WebElement (session=\"4740bca4cb4af34b8056b15dfecfffc3\", element=\"5466FD7446429814A801504DA3453157_element_1230\")>,\n",
       " <selenium.webdriver.remote.webelement.WebElement (session=\"4740bca4cb4af34b8056b15dfecfffc3\", element=\"5466FD7446429814A801504DA3453157_element_1527\")>,\n",
       " <selenium.webdriver.remote.webelement.WebElement (session=\"4740bca4cb4af34b8056b15dfecfffc3\", element=\"5466FD7446429814A801504DA3453157_element_1528\")>,\n",
       " <selenium.webdriver.remote.webelement.WebElement (session=\"4740bca4cb4af34b8056b15dfecfffc3\", element=\"5466FD7446429814A801504DA3453157_element_1529\")>,\n",
       " <selenium.webdriver.remote.webelement.WebElement (session=\"4740bca4cb4af34b8056b15dfecfffc3\", element=\"5466FD7446429814A801504DA3453157_element_1450\")>,\n",
       " <selenium.webdriver.remote.webelement.WebElement (session=\"4740bca4cb4af34b8056b15dfecfffc3\", element=\"5466FD7446429814A801504DA3453157_element_1530\")>,\n",
       " <selenium.webdriver.remote.webelement.WebElement (session=\"4740bca4cb4af34b8056b15dfecfffc3\", element=\"5466FD7446429814A801504DA3453157_element_1531\")>,\n",
       " <selenium.webdriver.remote.webelement.WebElement (session=\"4740bca4cb4af34b8056b15dfecfffc3\", element=\"5466FD7446429814A801504DA3453157_element_1532\")>,\n",
       " <selenium.webdriver.remote.webelement.WebElement (session=\"4740bca4cb4af34b8056b15dfecfffc3\", element=\"5466FD7446429814A801504DA3453157_element_1533\")>]"
      ]
     },
     "execution_count": 23,
     "metadata": {},
     "output_type": "execute_result"
    }
   ],
   "source": [
    "# To find all books characters. This will Locating Elements by Class Name\n",
    "from selenium.webdriver.common.by import By\n",
    "\n",
    "book_categories = driver.find_elements(By.CLASS_NAME, \"category-page__member-link\")\n",
    "book_categories"
   ]
  },
  {
   "cell_type": "code",
   "execution_count": 24,
   "metadata": {},
   "outputs": [
    {
     "data": {
      "text/plain": [
       "'Category:Baptism of Fire characters'"
      ]
     },
     "execution_count": 24,
     "metadata": {},
     "output_type": "execute_result"
    }
   ],
   "source": [
    "# Check the first book in the class\n",
    "book_categories[0].text"
   ]
  },
  {
   "cell_type": "code",
   "execution_count": 25,
   "metadata": {},
   "outputs": [
    {
     "data": {
      "text/plain": [
       "'https://witcher.fandom.com/wiki/Category:Baptism_of_Fire_characters'"
      ]
     },
     "execution_count": 25,
     "metadata": {},
     "output_type": "execute_result"
    }
   ],
   "source": [
    "# Get link of the element\n",
    "book_categories[0].get_attribute('href')"
   ]
  },
  {
   "cell_type": "code",
   "execution_count": 26,
   "metadata": {},
   "outputs": [],
   "source": [
    "# Go to the first link in the element\n",
    "driver.get(book_categories[0].get_attribute('href'))"
   ]
  },
  {
   "cell_type": "code",
   "execution_count": 27,
   "metadata": {},
   "outputs": [
    {
     "data": {
      "text/plain": [
       "[<selenium.webdriver.remote.webelement.WebElement (session=\"4740bca4cb4af34b8056b15dfecfffc3\", element=\"03BB5F08BA8325A154FCA377815177C9_element_2277\")>,\n",
       " <selenium.webdriver.remote.webelement.WebElement (session=\"4740bca4cb4af34b8056b15dfecfffc3\", element=\"03BB5F08BA8325A154FCA377815177C9_element_2285\")>,\n",
       " <selenium.webdriver.remote.webelement.WebElement (session=\"4740bca4cb4af34b8056b15dfecfffc3\", element=\"03BB5F08BA8325A154FCA377815177C9_element_2076\")>,\n",
       " <selenium.webdriver.remote.webelement.WebElement (session=\"4740bca4cb4af34b8056b15dfecfffc3\", element=\"03BB5F08BA8325A154FCA377815177C9_element_2107\")>,\n",
       " <selenium.webdriver.remote.webelement.WebElement (session=\"4740bca4cb4af34b8056b15dfecfffc3\", element=\"03BB5F08BA8325A154FCA377815177C9_element_2073\")>,\n",
       " <selenium.webdriver.remote.webelement.WebElement (session=\"4740bca4cb4af34b8056b15dfecfffc3\", element=\"03BB5F08BA8325A154FCA377815177C9_element_2032\")>,\n",
       " <selenium.webdriver.remote.webelement.WebElement (session=\"4740bca4cb4af34b8056b15dfecfffc3\", element=\"03BB5F08BA8325A154FCA377815177C9_element_2287\")>,\n",
       " <selenium.webdriver.remote.webelement.WebElement (session=\"4740bca4cb4af34b8056b15dfecfffc3\", element=\"03BB5F08BA8325A154FCA377815177C9_element_2288\")>,\n",
       " <selenium.webdriver.remote.webelement.WebElement (session=\"4740bca4cb4af34b8056b15dfecfffc3\", element=\"03BB5F08BA8325A154FCA377815177C9_element_2289\")>,\n",
       " <selenium.webdriver.remote.webelement.WebElement (session=\"4740bca4cb4af34b8056b15dfecfffc3\", element=\"03BB5F08BA8325A154FCA377815177C9_element_2290\")>,\n",
       " <selenium.webdriver.remote.webelement.WebElement (session=\"4740bca4cb4af34b8056b15dfecfffc3\", element=\"03BB5F08BA8325A154FCA377815177C9_element_2291\")>,\n",
       " <selenium.webdriver.remote.webelement.WebElement (session=\"4740bca4cb4af34b8056b15dfecfffc3\", element=\"03BB5F08BA8325A154FCA377815177C9_element_2292\")>,\n",
       " <selenium.webdriver.remote.webelement.WebElement (session=\"4740bca4cb4af34b8056b15dfecfffc3\", element=\"03BB5F08BA8325A154FCA377815177C9_element_2293\")>,\n",
       " <selenium.webdriver.remote.webelement.WebElement (session=\"4740bca4cb4af34b8056b15dfecfffc3\", element=\"03BB5F08BA8325A154FCA377815177C9_element_2294\")>,\n",
       " <selenium.webdriver.remote.webelement.WebElement (session=\"4740bca4cb4af34b8056b15dfecfffc3\", element=\"03BB5F08BA8325A154FCA377815177C9_element_2295\")>,\n",
       " <selenium.webdriver.remote.webelement.WebElement (session=\"4740bca4cb4af34b8056b15dfecfffc3\", element=\"03BB5F08BA8325A154FCA377815177C9_element_2296\")>,\n",
       " <selenium.webdriver.remote.webelement.WebElement (session=\"4740bca4cb4af34b8056b15dfecfffc3\", element=\"03BB5F08BA8325A154FCA377815177C9_element_2297\")>,\n",
       " <selenium.webdriver.remote.webelement.WebElement (session=\"4740bca4cb4af34b8056b15dfecfffc3\", element=\"03BB5F08BA8325A154FCA377815177C9_element_2298\")>,\n",
       " <selenium.webdriver.remote.webelement.WebElement (session=\"4740bca4cb4af34b8056b15dfecfffc3\", element=\"03BB5F08BA8325A154FCA377815177C9_element_2299\")>,\n",
       " <selenium.webdriver.remote.webelement.WebElement (session=\"4740bca4cb4af34b8056b15dfecfffc3\", element=\"03BB5F08BA8325A154FCA377815177C9_element_2300\")>,\n",
       " <selenium.webdriver.remote.webelement.WebElement (session=\"4740bca4cb4af34b8056b15dfecfffc3\", element=\"03BB5F08BA8325A154FCA377815177C9_element_2301\")>,\n",
       " <selenium.webdriver.remote.webelement.WebElement (session=\"4740bca4cb4af34b8056b15dfecfffc3\", element=\"03BB5F08BA8325A154FCA377815177C9_element_2302\")>,\n",
       " <selenium.webdriver.remote.webelement.WebElement (session=\"4740bca4cb4af34b8056b15dfecfffc3\", element=\"03BB5F08BA8325A154FCA377815177C9_element_2303\")>,\n",
       " <selenium.webdriver.remote.webelement.WebElement (session=\"4740bca4cb4af34b8056b15dfecfffc3\", element=\"03BB5F08BA8325A154FCA377815177C9_element_2304\")>,\n",
       " <selenium.webdriver.remote.webelement.WebElement (session=\"4740bca4cb4af34b8056b15dfecfffc3\", element=\"03BB5F08BA8325A154FCA377815177C9_element_2305\")>,\n",
       " <selenium.webdriver.remote.webelement.WebElement (session=\"4740bca4cb4af34b8056b15dfecfffc3\", element=\"03BB5F08BA8325A154FCA377815177C9_element_2306\")>,\n",
       " <selenium.webdriver.remote.webelement.WebElement (session=\"4740bca4cb4af34b8056b15dfecfffc3\", element=\"03BB5F08BA8325A154FCA377815177C9_element_2307\")>,\n",
       " <selenium.webdriver.remote.webelement.WebElement (session=\"4740bca4cb4af34b8056b15dfecfffc3\", element=\"03BB5F08BA8325A154FCA377815177C9_element_2308\")>,\n",
       " <selenium.webdriver.remote.webelement.WebElement (session=\"4740bca4cb4af34b8056b15dfecfffc3\", element=\"03BB5F08BA8325A154FCA377815177C9_element_2309\")>,\n",
       " <selenium.webdriver.remote.webelement.WebElement (session=\"4740bca4cb4af34b8056b15dfecfffc3\", element=\"03BB5F08BA8325A154FCA377815177C9_element_2310\")>,\n",
       " <selenium.webdriver.remote.webelement.WebElement (session=\"4740bca4cb4af34b8056b15dfecfffc3\", element=\"03BB5F08BA8325A154FCA377815177C9_element_2311\")>,\n",
       " <selenium.webdriver.remote.webelement.WebElement (session=\"4740bca4cb4af34b8056b15dfecfffc3\", element=\"03BB5F08BA8325A154FCA377815177C9_element_2312\")>,\n",
       " <selenium.webdriver.remote.webelement.WebElement (session=\"4740bca4cb4af34b8056b15dfecfffc3\", element=\"03BB5F08BA8325A154FCA377815177C9_element_2313\")>,\n",
       " <selenium.webdriver.remote.webelement.WebElement (session=\"4740bca4cb4af34b8056b15dfecfffc3\", element=\"03BB5F08BA8325A154FCA377815177C9_element_2314\")>,\n",
       " <selenium.webdriver.remote.webelement.WebElement (session=\"4740bca4cb4af34b8056b15dfecfffc3\", element=\"03BB5F08BA8325A154FCA377815177C9_element_2315\")>,\n",
       " <selenium.webdriver.remote.webelement.WebElement (session=\"4740bca4cb4af34b8056b15dfecfffc3\", element=\"03BB5F08BA8325A154FCA377815177C9_element_2316\")>,\n",
       " <selenium.webdriver.remote.webelement.WebElement (session=\"4740bca4cb4af34b8056b15dfecfffc3\", element=\"03BB5F08BA8325A154FCA377815177C9_element_2317\")>,\n",
       " <selenium.webdriver.remote.webelement.WebElement (session=\"4740bca4cb4af34b8056b15dfecfffc3\", element=\"03BB5F08BA8325A154FCA377815177C9_element_2318\")>,\n",
       " <selenium.webdriver.remote.webelement.WebElement (session=\"4740bca4cb4af34b8056b15dfecfffc3\", element=\"03BB5F08BA8325A154FCA377815177C9_element_2319\")>,\n",
       " <selenium.webdriver.remote.webelement.WebElement (session=\"4740bca4cb4af34b8056b15dfecfffc3\", element=\"03BB5F08BA8325A154FCA377815177C9_element_2320\")>,\n",
       " <selenium.webdriver.remote.webelement.WebElement (session=\"4740bca4cb4af34b8056b15dfecfffc3\", element=\"03BB5F08BA8325A154FCA377815177C9_element_2321\")>,\n",
       " <selenium.webdriver.remote.webelement.WebElement (session=\"4740bca4cb4af34b8056b15dfecfffc3\", element=\"03BB5F08BA8325A154FCA377815177C9_element_2322\")>,\n",
       " <selenium.webdriver.remote.webelement.WebElement (session=\"4740bca4cb4af34b8056b15dfecfffc3\", element=\"03BB5F08BA8325A154FCA377815177C9_element_2323\")>,\n",
       " <selenium.webdriver.remote.webelement.WebElement (session=\"4740bca4cb4af34b8056b15dfecfffc3\", element=\"03BB5F08BA8325A154FCA377815177C9_element_2324\")>,\n",
       " <selenium.webdriver.remote.webelement.WebElement (session=\"4740bca4cb4af34b8056b15dfecfffc3\", element=\"03BB5F08BA8325A154FCA377815177C9_element_2325\")>,\n",
       " <selenium.webdriver.remote.webelement.WebElement (session=\"4740bca4cb4af34b8056b15dfecfffc3\", element=\"03BB5F08BA8325A154FCA377815177C9_element_2326\")>,\n",
       " <selenium.webdriver.remote.webelement.WebElement (session=\"4740bca4cb4af34b8056b15dfecfffc3\", element=\"03BB5F08BA8325A154FCA377815177C9_element_2327\")>,\n",
       " <selenium.webdriver.remote.webelement.WebElement (session=\"4740bca4cb4af34b8056b15dfecfffc3\", element=\"03BB5F08BA8325A154FCA377815177C9_element_2328\")>,\n",
       " <selenium.webdriver.remote.webelement.WebElement (session=\"4740bca4cb4af34b8056b15dfecfffc3\", element=\"03BB5F08BA8325A154FCA377815177C9_element_2329\")>,\n",
       " <selenium.webdriver.remote.webelement.WebElement (session=\"4740bca4cb4af34b8056b15dfecfffc3\", element=\"03BB5F08BA8325A154FCA377815177C9_element_2330\")>,\n",
       " <selenium.webdriver.remote.webelement.WebElement (session=\"4740bca4cb4af34b8056b15dfecfffc3\", element=\"03BB5F08BA8325A154FCA377815177C9_element_2331\")>,\n",
       " <selenium.webdriver.remote.webelement.WebElement (session=\"4740bca4cb4af34b8056b15dfecfffc3\", element=\"03BB5F08BA8325A154FCA377815177C9_element_2332\")>,\n",
       " <selenium.webdriver.remote.webelement.WebElement (session=\"4740bca4cb4af34b8056b15dfecfffc3\", element=\"03BB5F08BA8325A154FCA377815177C9_element_2333\")>,\n",
       " <selenium.webdriver.remote.webelement.WebElement (session=\"4740bca4cb4af34b8056b15dfecfffc3\", element=\"03BB5F08BA8325A154FCA377815177C9_element_2334\")>,\n",
       " <selenium.webdriver.remote.webelement.WebElement (session=\"4740bca4cb4af34b8056b15dfecfffc3\", element=\"03BB5F08BA8325A154FCA377815177C9_element_2335\")>,\n",
       " <selenium.webdriver.remote.webelement.WebElement (session=\"4740bca4cb4af34b8056b15dfecfffc3\", element=\"03BB5F08BA8325A154FCA377815177C9_element_2336\")>,\n",
       " <selenium.webdriver.remote.webelement.WebElement (session=\"4740bca4cb4af34b8056b15dfecfffc3\", element=\"03BB5F08BA8325A154FCA377815177C9_element_2337\")>,\n",
       " <selenium.webdriver.remote.webelement.WebElement (session=\"4740bca4cb4af34b8056b15dfecfffc3\", element=\"03BB5F08BA8325A154FCA377815177C9_element_2338\")>,\n",
       " <selenium.webdriver.remote.webelement.WebElement (session=\"4740bca4cb4af34b8056b15dfecfffc3\", element=\"03BB5F08BA8325A154FCA377815177C9_element_2339\")>,\n",
       " <selenium.webdriver.remote.webelement.WebElement (session=\"4740bca4cb4af34b8056b15dfecfffc3\", element=\"03BB5F08BA8325A154FCA377815177C9_element_2340\")>,\n",
       " <selenium.webdriver.remote.webelement.WebElement (session=\"4740bca4cb4af34b8056b15dfecfffc3\", element=\"03BB5F08BA8325A154FCA377815177C9_element_2341\")>,\n",
       " <selenium.webdriver.remote.webelement.WebElement (session=\"4740bca4cb4af34b8056b15dfecfffc3\", element=\"03BB5F08BA8325A154FCA377815177C9_element_2342\")>,\n",
       " <selenium.webdriver.remote.webelement.WebElement (session=\"4740bca4cb4af34b8056b15dfecfffc3\", element=\"03BB5F08BA8325A154FCA377815177C9_element_2343\")>,\n",
       " <selenium.webdriver.remote.webelement.WebElement (session=\"4740bca4cb4af34b8056b15dfecfffc3\", element=\"03BB5F08BA8325A154FCA377815177C9_element_2344\")>,\n",
       " <selenium.webdriver.remote.webelement.WebElement (session=\"4740bca4cb4af34b8056b15dfecfffc3\", element=\"03BB5F08BA8325A154FCA377815177C9_element_2345\")>,\n",
       " <selenium.webdriver.remote.webelement.WebElement (session=\"4740bca4cb4af34b8056b15dfecfffc3\", element=\"03BB5F08BA8325A154FCA377815177C9_element_2346\")>,\n",
       " <selenium.webdriver.remote.webelement.WebElement (session=\"4740bca4cb4af34b8056b15dfecfffc3\", element=\"03BB5F08BA8325A154FCA377815177C9_element_2347\")>,\n",
       " <selenium.webdriver.remote.webelement.WebElement (session=\"4740bca4cb4af34b8056b15dfecfffc3\", element=\"03BB5F08BA8325A154FCA377815177C9_element_2348\")>,\n",
       " <selenium.webdriver.remote.webelement.WebElement (session=\"4740bca4cb4af34b8056b15dfecfffc3\", element=\"03BB5F08BA8325A154FCA377815177C9_element_2349\")>,\n",
       " <selenium.webdriver.remote.webelement.WebElement (session=\"4740bca4cb4af34b8056b15dfecfffc3\", element=\"03BB5F08BA8325A154FCA377815177C9_element_2350\")>,\n",
       " <selenium.webdriver.remote.webelement.WebElement (session=\"4740bca4cb4af34b8056b15dfecfffc3\", element=\"03BB5F08BA8325A154FCA377815177C9_element_2351\")>,\n",
       " <selenium.webdriver.remote.webelement.WebElement (session=\"4740bca4cb4af34b8056b15dfecfffc3\", element=\"03BB5F08BA8325A154FCA377815177C9_element_2352\")>,\n",
       " <selenium.webdriver.remote.webelement.WebElement (session=\"4740bca4cb4af34b8056b15dfecfffc3\", element=\"03BB5F08BA8325A154FCA377815177C9_element_2353\")>,\n",
       " <selenium.webdriver.remote.webelement.WebElement (session=\"4740bca4cb4af34b8056b15dfecfffc3\", element=\"03BB5F08BA8325A154FCA377815177C9_element_2354\")>,\n",
       " <selenium.webdriver.remote.webelement.WebElement (session=\"4740bca4cb4af34b8056b15dfecfffc3\", element=\"03BB5F08BA8325A154FCA377815177C9_element_2355\")>,\n",
       " <selenium.webdriver.remote.webelement.WebElement (session=\"4740bca4cb4af34b8056b15dfecfffc3\", element=\"03BB5F08BA8325A154FCA377815177C9_element_2356\")>,\n",
       " <selenium.webdriver.remote.webelement.WebElement (session=\"4740bca4cb4af34b8056b15dfecfffc3\", element=\"03BB5F08BA8325A154FCA377815177C9_element_2357\")>,\n",
       " <selenium.webdriver.remote.webelement.WebElement (session=\"4740bca4cb4af34b8056b15dfecfffc3\", element=\"03BB5F08BA8325A154FCA377815177C9_element_2358\")>,\n",
       " <selenium.webdriver.remote.webelement.WebElement (session=\"4740bca4cb4af34b8056b15dfecfffc3\", element=\"03BB5F08BA8325A154FCA377815177C9_element_2359\")>,\n",
       " <selenium.webdriver.remote.webelement.WebElement (session=\"4740bca4cb4af34b8056b15dfecfffc3\", element=\"03BB5F08BA8325A154FCA377815177C9_element_2164\")>,\n",
       " <selenium.webdriver.remote.webelement.WebElement (session=\"4740bca4cb4af34b8056b15dfecfffc3\", element=\"03BB5F08BA8325A154FCA377815177C9_element_1873\")>,\n",
       " <selenium.webdriver.remote.webelement.WebElement (session=\"4740bca4cb4af34b8056b15dfecfffc3\", element=\"03BB5F08BA8325A154FCA377815177C9_element_2360\")>,\n",
       " <selenium.webdriver.remote.webelement.WebElement (session=\"4740bca4cb4af34b8056b15dfecfffc3\", element=\"03BB5F08BA8325A154FCA377815177C9_element_1874\")>,\n",
       " <selenium.webdriver.remote.webelement.WebElement (session=\"4740bca4cb4af34b8056b15dfecfffc3\", element=\"03BB5F08BA8325A154FCA377815177C9_element_2361\")>,\n",
       " <selenium.webdriver.remote.webelement.WebElement (session=\"4740bca4cb4af34b8056b15dfecfffc3\", element=\"03BB5F08BA8325A154FCA377815177C9_element_2362\")>,\n",
       " <selenium.webdriver.remote.webelement.WebElement (session=\"4740bca4cb4af34b8056b15dfecfffc3\", element=\"03BB5F08BA8325A154FCA377815177C9_element_2363\")>,\n",
       " <selenium.webdriver.remote.webelement.WebElement (session=\"4740bca4cb4af34b8056b15dfecfffc3\", element=\"03BB5F08BA8325A154FCA377815177C9_element_2364\")>,\n",
       " <selenium.webdriver.remote.webelement.WebElement (session=\"4740bca4cb4af34b8056b15dfecfffc3\", element=\"03BB5F08BA8325A154FCA377815177C9_element_2365\")>,\n",
       " <selenium.webdriver.remote.webelement.WebElement (session=\"4740bca4cb4af34b8056b15dfecfffc3\", element=\"03BB5F08BA8325A154FCA377815177C9_element_2366\")>,\n",
       " <selenium.webdriver.remote.webelement.WebElement (session=\"4740bca4cb4af34b8056b15dfecfffc3\", element=\"03BB5F08BA8325A154FCA377815177C9_element_2367\")>,\n",
       " <selenium.webdriver.remote.webelement.WebElement (session=\"4740bca4cb4af34b8056b15dfecfffc3\", element=\"03BB5F08BA8325A154FCA377815177C9_element_2368\")>,\n",
       " <selenium.webdriver.remote.webelement.WebElement (session=\"4740bca4cb4af34b8056b15dfecfffc3\", element=\"03BB5F08BA8325A154FCA377815177C9_element_2369\")>,\n",
       " <selenium.webdriver.remote.webelement.WebElement (session=\"4740bca4cb4af34b8056b15dfecfffc3\", element=\"03BB5F08BA8325A154FCA377815177C9_element_2370\")>,\n",
       " <selenium.webdriver.remote.webelement.WebElement (session=\"4740bca4cb4af34b8056b15dfecfffc3\", element=\"03BB5F08BA8325A154FCA377815177C9_element_2371\")>,\n",
       " <selenium.webdriver.remote.webelement.WebElement (session=\"4740bca4cb4af34b8056b15dfecfffc3\", element=\"03BB5F08BA8325A154FCA377815177C9_element_2372\")>,\n",
       " <selenium.webdriver.remote.webelement.WebElement (session=\"4740bca4cb4af34b8056b15dfecfffc3\", element=\"03BB5F08BA8325A154FCA377815177C9_element_2373\")>,\n",
       " <selenium.webdriver.remote.webelement.WebElement (session=\"4740bca4cb4af34b8056b15dfecfffc3\", element=\"03BB5F08BA8325A154FCA377815177C9_element_2374\")>,\n",
       " <selenium.webdriver.remote.webelement.WebElement (session=\"4740bca4cb4af34b8056b15dfecfffc3\", element=\"03BB5F08BA8325A154FCA377815177C9_element_2375\")>,\n",
       " <selenium.webdriver.remote.webelement.WebElement (session=\"4740bca4cb4af34b8056b15dfecfffc3\", element=\"03BB5F08BA8325A154FCA377815177C9_element_2376\")>,\n",
       " <selenium.webdriver.remote.webelement.WebElement (session=\"4740bca4cb4af34b8056b15dfecfffc3\", element=\"03BB5F08BA8325A154FCA377815177C9_element_2377\")>,\n",
       " <selenium.webdriver.remote.webelement.WebElement (session=\"4740bca4cb4af34b8056b15dfecfffc3\", element=\"03BB5F08BA8325A154FCA377815177C9_element_2378\")>,\n",
       " <selenium.webdriver.remote.webelement.WebElement (session=\"4740bca4cb4af34b8056b15dfecfffc3\", element=\"03BB5F08BA8325A154FCA377815177C9_element_2379\")>,\n",
       " <selenium.webdriver.remote.webelement.WebElement (session=\"4740bca4cb4af34b8056b15dfecfffc3\", element=\"03BB5F08BA8325A154FCA377815177C9_element_2380\")>,\n",
       " <selenium.webdriver.remote.webelement.WebElement (session=\"4740bca4cb4af34b8056b15dfecfffc3\", element=\"03BB5F08BA8325A154FCA377815177C9_element_2381\")>,\n",
       " <selenium.webdriver.remote.webelement.WebElement (session=\"4740bca4cb4af34b8056b15dfecfffc3\", element=\"03BB5F08BA8325A154FCA377815177C9_element_2382\")>,\n",
       " <selenium.webdriver.remote.webelement.WebElement (session=\"4740bca4cb4af34b8056b15dfecfffc3\", element=\"03BB5F08BA8325A154FCA377815177C9_element_2383\")>,\n",
       " <selenium.webdriver.remote.webelement.WebElement (session=\"4740bca4cb4af34b8056b15dfecfffc3\", element=\"03BB5F08BA8325A154FCA377815177C9_element_2384\")>,\n",
       " <selenium.webdriver.remote.webelement.WebElement (session=\"4740bca4cb4af34b8056b15dfecfffc3\", element=\"03BB5F08BA8325A154FCA377815177C9_element_2385\")>,\n",
       " <selenium.webdriver.remote.webelement.WebElement (session=\"4740bca4cb4af34b8056b15dfecfffc3\", element=\"03BB5F08BA8325A154FCA377815177C9_element_2386\")>,\n",
       " <selenium.webdriver.remote.webelement.WebElement (session=\"4740bca4cb4af34b8056b15dfecfffc3\", element=\"03BB5F08BA8325A154FCA377815177C9_element_2387\")>,\n",
       " <selenium.webdriver.remote.webelement.WebElement (session=\"4740bca4cb4af34b8056b15dfecfffc3\", element=\"03BB5F08BA8325A154FCA377815177C9_element_2388\")>,\n",
       " <selenium.webdriver.remote.webelement.WebElement (session=\"4740bca4cb4af34b8056b15dfecfffc3\", element=\"03BB5F08BA8325A154FCA377815177C9_element_2389\")>,\n",
       " <selenium.webdriver.remote.webelement.WebElement (session=\"4740bca4cb4af34b8056b15dfecfffc3\", element=\"03BB5F08BA8325A154FCA377815177C9_element_2390\")>,\n",
       " <selenium.webdriver.remote.webelement.WebElement (session=\"4740bca4cb4af34b8056b15dfecfffc3\", element=\"03BB5F08BA8325A154FCA377815177C9_element_2391\")>,\n",
       " <selenium.webdriver.remote.webelement.WebElement (session=\"4740bca4cb4af34b8056b15dfecfffc3\", element=\"03BB5F08BA8325A154FCA377815177C9_element_2392\")>,\n",
       " <selenium.webdriver.remote.webelement.WebElement (session=\"4740bca4cb4af34b8056b15dfecfffc3\", element=\"03BB5F08BA8325A154FCA377815177C9_element_2393\")>,\n",
       " <selenium.webdriver.remote.webelement.WebElement (session=\"4740bca4cb4af34b8056b15dfecfffc3\", element=\"03BB5F08BA8325A154FCA377815177C9_element_2394\")>,\n",
       " <selenium.webdriver.remote.webelement.WebElement (session=\"4740bca4cb4af34b8056b15dfecfffc3\", element=\"03BB5F08BA8325A154FCA377815177C9_element_2395\")>,\n",
       " <selenium.webdriver.remote.webelement.WebElement (session=\"4740bca4cb4af34b8056b15dfecfffc3\", element=\"03BB5F08BA8325A154FCA377815177C9_element_2396\")>,\n",
       " <selenium.webdriver.remote.webelement.WebElement (session=\"4740bca4cb4af34b8056b15dfecfffc3\", element=\"03BB5F08BA8325A154FCA377815177C9_element_2397\")>,\n",
       " <selenium.webdriver.remote.webelement.WebElement (session=\"4740bca4cb4af34b8056b15dfecfffc3\", element=\"03BB5F08BA8325A154FCA377815177C9_element_2398\")>,\n",
       " <selenium.webdriver.remote.webelement.WebElement (session=\"4740bca4cb4af34b8056b15dfecfffc3\", element=\"03BB5F08BA8325A154FCA377815177C9_element_2399\")>,\n",
       " <selenium.webdriver.remote.webelement.WebElement (session=\"4740bca4cb4af34b8056b15dfecfffc3\", element=\"03BB5F08BA8325A154FCA377815177C9_element_2400\")>,\n",
       " <selenium.webdriver.remote.webelement.WebElement (session=\"4740bca4cb4af34b8056b15dfecfffc3\", element=\"03BB5F08BA8325A154FCA377815177C9_element_2401\")>,\n",
       " <selenium.webdriver.remote.webelement.WebElement (session=\"4740bca4cb4af34b8056b15dfecfffc3\", element=\"03BB5F08BA8325A154FCA377815177C9_element_2402\")>,\n",
       " <selenium.webdriver.remote.webelement.WebElement (session=\"4740bca4cb4af34b8056b15dfecfffc3\", element=\"03BB5F08BA8325A154FCA377815177C9_element_2403\")>,\n",
       " <selenium.webdriver.remote.webelement.WebElement (session=\"4740bca4cb4af34b8056b15dfecfffc3\", element=\"03BB5F08BA8325A154FCA377815177C9_element_2404\")>,\n",
       " <selenium.webdriver.remote.webelement.WebElement (session=\"4740bca4cb4af34b8056b15dfecfffc3\", element=\"03BB5F08BA8325A154FCA377815177C9_element_2405\")>,\n",
       " <selenium.webdriver.remote.webelement.WebElement (session=\"4740bca4cb4af34b8056b15dfecfffc3\", element=\"03BB5F08BA8325A154FCA377815177C9_element_2406\")>,\n",
       " <selenium.webdriver.remote.webelement.WebElement (session=\"4740bca4cb4af34b8056b15dfecfffc3\", element=\"03BB5F08BA8325A154FCA377815177C9_element_2407\")>,\n",
       " <selenium.webdriver.remote.webelement.WebElement (session=\"4740bca4cb4af34b8056b15dfecfffc3\", element=\"03BB5F08BA8325A154FCA377815177C9_element_2408\")>,\n",
       " <selenium.webdriver.remote.webelement.WebElement (session=\"4740bca4cb4af34b8056b15dfecfffc3\", element=\"03BB5F08BA8325A154FCA377815177C9_element_2409\")>,\n",
       " <selenium.webdriver.remote.webelement.WebElement (session=\"4740bca4cb4af34b8056b15dfecfffc3\", element=\"03BB5F08BA8325A154FCA377815177C9_element_2410\")>,\n",
       " <selenium.webdriver.remote.webelement.WebElement (session=\"4740bca4cb4af34b8056b15dfecfffc3\", element=\"03BB5F08BA8325A154FCA377815177C9_element_2411\")>,\n",
       " <selenium.webdriver.remote.webelement.WebElement (session=\"4740bca4cb4af34b8056b15dfecfffc3\", element=\"03BB5F08BA8325A154FCA377815177C9_element_2412\")>,\n",
       " <selenium.webdriver.remote.webelement.WebElement (session=\"4740bca4cb4af34b8056b15dfecfffc3\", element=\"03BB5F08BA8325A154FCA377815177C9_element_2413\")>,\n",
       " <selenium.webdriver.remote.webelement.WebElement (session=\"4740bca4cb4af34b8056b15dfecfffc3\", element=\"03BB5F08BA8325A154FCA377815177C9_element_2414\")>,\n",
       " <selenium.webdriver.remote.webelement.WebElement (session=\"4740bca4cb4af34b8056b15dfecfffc3\", element=\"03BB5F08BA8325A154FCA377815177C9_element_2415\")>,\n",
       " <selenium.webdriver.remote.webelement.WebElement (session=\"4740bca4cb4af34b8056b15dfecfffc3\", element=\"03BB5F08BA8325A154FCA377815177C9_element_2416\")>,\n",
       " <selenium.webdriver.remote.webelement.WebElement (session=\"4740bca4cb4af34b8056b15dfecfffc3\", element=\"03BB5F08BA8325A154FCA377815177C9_element_2417\")>,\n",
       " <selenium.webdriver.remote.webelement.WebElement (session=\"4740bca4cb4af34b8056b15dfecfffc3\", element=\"03BB5F08BA8325A154FCA377815177C9_element_2418\")>,\n",
       " <selenium.webdriver.remote.webelement.WebElement (session=\"4740bca4cb4af34b8056b15dfecfffc3\", element=\"03BB5F08BA8325A154FCA377815177C9_element_2419\")>,\n",
       " <selenium.webdriver.remote.webelement.WebElement (session=\"4740bca4cb4af34b8056b15dfecfffc3\", element=\"03BB5F08BA8325A154FCA377815177C9_element_2420\")>,\n",
       " <selenium.webdriver.remote.webelement.WebElement (session=\"4740bca4cb4af34b8056b15dfecfffc3\", element=\"03BB5F08BA8325A154FCA377815177C9_element_2421\")>,\n",
       " <selenium.webdriver.remote.webelement.WebElement (session=\"4740bca4cb4af34b8056b15dfecfffc3\", element=\"03BB5F08BA8325A154FCA377815177C9_element_2422\")>,\n",
       " <selenium.webdriver.remote.webelement.WebElement (session=\"4740bca4cb4af34b8056b15dfecfffc3\", element=\"03BB5F08BA8325A154FCA377815177C9_element_2423\")>,\n",
       " <selenium.webdriver.remote.webelement.WebElement (session=\"4740bca4cb4af34b8056b15dfecfffc3\", element=\"03BB5F08BA8325A154FCA377815177C9_element_2424\")>]"
      ]
     },
     "execution_count": 27,
     "metadata": {},
     "output_type": "execute_result"
    }
   ],
   "source": [
    "# To find all characters in the link. This will Locating Elements by Class Name\n",
    "\n",
    "character_elems = driver.find_elements(By.CLASS_NAME, \"category-page__member-link\")\n",
    "character_elems"
   ]
  },
  {
   "cell_type": "code",
   "execution_count": 28,
   "metadata": {},
   "outputs": [
    {
     "data": {
      "text/plain": [
       "'Adalia'"
      ]
     },
     "execution_count": 28,
     "metadata": {},
     "output_type": "execute_result"
    }
   ],
   "source": [
    "character_elems[0].text"
   ]
  },
  {
   "cell_type": "markdown",
   "metadata": {},
   "source": [
    "# FULL CODE"
   ]
  },
  {
   "cell_type": "code",
   "execution_count": 3,
   "metadata": {},
   "outputs": [],
   "source": [
    "# create driver\n",
    "driver = webdriver.Chrome(service=Service(ChromeDriverManager().install()))\n",
    "\n",
    "# To open the witcher character URL\n",
    "page_url = \"https://witcher.fandom.com/wiki/Category:Characters_in_the_stories\"\n",
    "driver.get(page_url)\n",
    "\n",
    "# To find all books. This will Locating Elements by Class Name\n",
    "book_categories = driver.find_elements(By.CLASS_NAME, \"category-page__member-link\")\n",
    "\n",
    "books = []\n",
    "for book in book_categories:\n",
    "    book_name = book.text\n",
    "    url = book.get_attribute('href')\n",
    "    books.append({'book_name':book_name, 'url':url})\n"
   ]
  },
  {
   "cell_type": "code",
   "execution_count": 31,
   "metadata": {},
   "outputs": [
    {
     "data": {
      "text/plain": [
       "[{'book_name': 'Category:Baptism of Fire characters',\n",
       "  'url': 'https://witcher.fandom.com/wiki/Category:Baptism_of_Fire_characters'},\n",
       " {'book_name': 'Category:Blood of Elves characters',\n",
       "  'url': 'https://witcher.fandom.com/wiki/Category:Blood_of_Elves_characters'},\n",
       " {'book_name': \"Godamba Thaess'en\",\n",
       "  'url': 'https://witcher.fandom.com/wiki/Godamba_Thaess%27en'},\n",
       " {'book_name': 'Category:Season of Storms characters',\n",
       "  'url': 'https://witcher.fandom.com/wiki/Category:Season_of_Storms_characters'},\n",
       " {'book_name': 'Category:Something Ends, Something Begins characters',\n",
       "  'url': 'https://witcher.fandom.com/wiki/Category:Something_Ends,_Something_Begins_characters'},\n",
       " {'book_name': 'Category:Sword of Destiny characters',\n",
       "  'url': 'https://witcher.fandom.com/wiki/Category:Sword_of_Destiny_characters'},\n",
       " {'book_name': 'Category:Szpony i kły characters',\n",
       "  'url': 'https://witcher.fandom.com/wiki/Category:Szpony_i_k%C5%82y_characters'},\n",
       " {'book_name': 'Category:Tales from the world of The Witcher characters',\n",
       "  'url': 'https://witcher.fandom.com/wiki/Category:Tales_from_the_world_of_The_Witcher_characters'},\n",
       " {'book_name': 'Category:The Lady of the Lake characters',\n",
       "  'url': 'https://witcher.fandom.com/wiki/Category:The_Lady_of_the_Lake_characters'},\n",
       " {'book_name': 'Category:The Last Wish characters',\n",
       "  'url': 'https://witcher.fandom.com/wiki/Category:The_Last_Wish_characters'},\n",
       " {'book_name': 'Category:The Tower of the Swallow characters',\n",
       "  'url': 'https://witcher.fandom.com/wiki/Category:The_Tower_of_the_Swallow_characters'},\n",
       " {'book_name': 'Category:Time of Contempt characters',\n",
       "  'url': 'https://witcher.fandom.com/wiki/Category:Time_of_Contempt_characters'}]"
      ]
     },
     "execution_count": 31,
     "metadata": {},
     "output_type": "execute_result"
    }
   ],
   "source": [
    "books"
   ]
  },
  {
   "cell_type": "code",
   "execution_count": 4,
   "metadata": {},
   "outputs": [],
   "source": [
    "character_list = []\n",
    "\n",
    "for book in books:\n",
    "    # Go to the link of the book\n",
    "    driver.get(book['url'])\n",
    "    # To find all characters in the book. This will Locating Elements by Class Name\n",
    "    chars = driver.find_elements(By.CLASS_NAME, \"category-page__member-link\")\n",
    "    for char in chars:\n",
    "        book_name = book['book_name']\n",
    "        character_name = char.text\n",
    "        character_list.append({'book': book_name, \"character\": character_name})"
   ]
  },
  {
   "cell_type": "code",
   "execution_count": 6,
   "metadata": {},
   "outputs": [
    {
     "data": {
      "text/html": [
       "<div>\n",
       "<style scoped>\n",
       "    .dataframe tbody tr th:only-of-type {\n",
       "        vertical-align: middle;\n",
       "    }\n",
       "\n",
       "    .dataframe tbody tr th {\n",
       "        vertical-align: top;\n",
       "    }\n",
       "\n",
       "    .dataframe thead th {\n",
       "        text-align: right;\n",
       "    }\n",
       "</style>\n",
       "<table border=\"1\" class=\"dataframe\">\n",
       "  <thead>\n",
       "    <tr style=\"text-align: right;\">\n",
       "      <th></th>\n",
       "      <th>book</th>\n",
       "      <th>character</th>\n",
       "    </tr>\n",
       "  </thead>\n",
       "  <tbody>\n",
       "    <tr>\n",
       "      <th>0</th>\n",
       "      <td>Category:Baptism of Fire characters</td>\n",
       "      <td>Adalia</td>\n",
       "    </tr>\n",
       "    <tr>\n",
       "      <th>1</th>\n",
       "      <td>Category:Baptism of Fire characters</td>\n",
       "      <td>Adela</td>\n",
       "    </tr>\n",
       "    <tr>\n",
       "      <th>2</th>\n",
       "      <td>Category:Baptism of Fire characters</td>\n",
       "      <td>Aen Saevherne</td>\n",
       "    </tr>\n",
       "    <tr>\n",
       "      <th>3</th>\n",
       "      <td>Category:Baptism of Fire characters</td>\n",
       "      <td>Aevenien</td>\n",
       "    </tr>\n",
       "    <tr>\n",
       "      <th>4</th>\n",
       "      <td>Category:Baptism of Fire characters</td>\n",
       "      <td>Aglaïs</td>\n",
       "    </tr>\n",
       "    <tr>\n",
       "      <th>5</th>\n",
       "      <td>Category:Baptism of Fire characters</td>\n",
       "      <td>Albrich</td>\n",
       "    </tr>\n",
       "    <tr>\n",
       "      <th>6</th>\n",
       "      <td>Category:Baptism of Fire characters</td>\n",
       "      <td>Amavet</td>\n",
       "    </tr>\n",
       "    <tr>\n",
       "      <th>7</th>\n",
       "      <td>Category:Baptism of Fire characters</td>\n",
       "      <td>Angus Bri Cri</td>\n",
       "    </tr>\n",
       "    <tr>\n",
       "      <th>8</th>\n",
       "      <td>Category:Baptism of Fire characters</td>\n",
       "      <td>Anna Kameny</td>\n",
       "    </tr>\n",
       "    <tr>\n",
       "      <th>9</th>\n",
       "      <td>Category:Baptism of Fire characters</td>\n",
       "      <td>Anzelm Aubry</td>\n",
       "    </tr>\n",
       "    <tr>\n",
       "      <th>10</th>\n",
       "      <td>Category:Baptism of Fire characters</td>\n",
       "      <td>Artaud Terranova</td>\n",
       "    </tr>\n",
       "    <tr>\n",
       "      <th>11</th>\n",
       "      <td>Category:Baptism of Fire characters</td>\n",
       "      <td>Asse</td>\n",
       "    </tr>\n",
       "    <tr>\n",
       "      <th>12</th>\n",
       "      <td>Category:Baptism of Fire characters</td>\n",
       "      <td>Assire var Anahid</td>\n",
       "    </tr>\n",
       "    <tr>\n",
       "      <th>13</th>\n",
       "      <td>Category:Baptism of Fire characters</td>\n",
       "      <td>Aubry (first born)</td>\n",
       "    </tr>\n",
       "    <tr>\n",
       "      <th>14</th>\n",
       "      <td>Category:Baptism of Fire characters</td>\n",
       "      <td>Augusta Wagner</td>\n",
       "    </tr>\n",
       "  </tbody>\n",
       "</table>\n",
       "</div>"
      ],
      "text/plain": [
       "                                   book           character\n",
       "0   Category:Baptism of Fire characters              Adalia\n",
       "1   Category:Baptism of Fire characters               Adela\n",
       "2   Category:Baptism of Fire characters       Aen Saevherne\n",
       "3   Category:Baptism of Fire characters            Aevenien\n",
       "4   Category:Baptism of Fire characters              Aglaïs\n",
       "5   Category:Baptism of Fire characters             Albrich\n",
       "6   Category:Baptism of Fire characters              Amavet\n",
       "7   Category:Baptism of Fire characters       Angus Bri Cri\n",
       "8   Category:Baptism of Fire characters         Anna Kameny\n",
       "9   Category:Baptism of Fire characters        Anzelm Aubry\n",
       "10  Category:Baptism of Fire characters    Artaud Terranova\n",
       "11  Category:Baptism of Fire characters                Asse\n",
       "12  Category:Baptism of Fire characters   Assire var Anahid\n",
       "13  Category:Baptism of Fire characters  Aubry (first born)\n",
       "14  Category:Baptism of Fire characters      Augusta Wagner"
      ]
     },
     "execution_count": 6,
     "metadata": {},
     "output_type": "execute_result"
    }
   ],
   "source": [
    "df = pd.DataFrame(character_list)\n",
    "df.head(15)"
   ]
  },
  {
   "cell_type": "code",
   "execution_count": 7,
   "metadata": {},
   "outputs": [],
   "source": [
    "# Save as csv\n",
    "df.to_csv('character_list.csv', index=False)\n"
   ]
  },
  {
   "cell_type": "code",
   "execution_count": null,
   "metadata": {},
   "outputs": [],
   "source": []
  }
 ],
 "metadata": {
  "kernelspec": {
   "display_name": "venv_witcher",
   "language": "python",
   "name": "python3"
  },
  "language_info": {
   "codemirror_mode": {
    "name": "ipython",
    "version": 3
   },
   "file_extension": ".py",
   "mimetype": "text/x-python",
   "name": "python",
   "nbconvert_exporter": "python",
   "pygments_lexer": "ipython3",
   "version": "3.11.4"
  },
  "orig_nbformat": 4
 },
 "nbformat": 4,
 "nbformat_minor": 2
}
